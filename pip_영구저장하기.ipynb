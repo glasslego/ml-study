{
  "nbformat": 4,
  "nbformat_minor": 0,
  "metadata": {
    "colab": {
      "provenance": [],
      "mount_file_id": "1Ws5zTQCnXockgoS50oeS-YalxULbDON_",
      "authorship_tag": "ABX9TyNPSNZZDQbeVQUffGHginT9",
      "include_colab_link": true
    },
    "kernelspec": {
      "name": "python3",
      "display_name": "Python 3"
    },
    "language_info": {
      "name": "python"
    }
  },
  "cells": [
    {
      "cell_type": "markdown",
      "metadata": {
        "id": "view-in-github",
        "colab_type": "text"
      },
      "source": [
        "<a href=\"https://colab.research.google.com/github/glasslego/ml-study/blob/main/pip_%EC%98%81%EA%B5%AC%EC%A0%80%EC%9E%A5%ED%95%98%EA%B8%B0.ipynb\" target=\"_parent\"><img src=\"https://colab.research.google.com/assets/colab-badge.svg\" alt=\"Open In Colab\"/></a>"
      ]
    },
    {
      "cell_type": "code",
      "execution_count": 18,
      "metadata": {
        "colab": {
          "base_uri": "https://localhost:8080/"
        },
        "id": "-qX6gHNzJkV0",
        "outputId": "9dc9704d-0a44-4c6e-fd78-4427cfd51deb"
      },
      "outputs": [
        {
          "output_type": "stream",
          "name": "stdout",
          "text": [
            "Drive already mounted at /content/drive; to attempt to forcibly remount, call drive.mount(\"/content/drive\", force_remount=True).\n"
          ]
        }
      ],
      "source": [
        "from google.colab import drive\n",
        "drive.mount('/content/drive')"
      ]
    },
    {
      "cell_type": "code",
      "source": [
        "# 한번만 실행\n",
        "!mkdir -p '/content/drive/MyDrive/0_notebooks/pip'"
      ],
      "metadata": {
        "id": "tY6M4W96R8s3"
      },
      "execution_count": null,
      "outputs": []
    },
    {
      "cell_type": "code",
      "source": [
        "import os\n",
        "import sys\n",
        "\n",
        "src_path = '/content/drive/MyDrive/0_notebooks/pip'\n",
        "dst_path = '/content/pip'\n",
        "\n",
        "# 심볼릭 링크\n",
        "os.symlink(src_path, dst_path)\n",
        "\n",
        "# PYTHONPATH에 일시적으로 추가해주는 기능\n",
        "sys.path.insert(0, dst_path)"
      ],
      "metadata": {
        "id": "9YoRoCBfR6bj"
      },
      "execution_count": 24,
      "outputs": []
    },
    {
      "cell_type": "code",
      "source": [
        "sys.path.append('/content/drive/MyDrive/0_notebooks/pip')"
      ],
      "metadata": {
        "id": "Wcr9lhT1SHy7"
      },
      "execution_count": 25,
      "outputs": []
    },
    {
      "cell_type": "code",
      "source": [
        "!whereis python3"
      ],
      "metadata": {
        "colab": {
          "base_uri": "https://localhost:8080/"
        },
        "id": "R0qy3jDPS0Tu",
        "outputId": "f57fb89f-2106-492e-e332-6aaf2f6be49f"
      },
      "execution_count": 28,
      "outputs": [
        {
          "output_type": "stream",
          "name": "stdout",
          "text": [
            "python3: /usr/bin/python3 /usr/lib/python3 /etc/python3 /usr/share/python3 /usr/share/man/man1/python3.1.gz\n"
          ]
        }
      ]
    },
    {
      "cell_type": "code",
      "source": [
        "!pip install --target='/content/pip' seaborn"
      ],
      "metadata": {
        "id": "5uOMSPutSO3k"
      },
      "execution_count": null,
      "outputs": []
    },
    {
      "cell_type": "code",
      "source": [
        "# pip 꼬일땐 삭제하기\n",
        "!rm -rf '/content/drive/MyDrive/0_notebooks/pip'\n",
        "\n",
        "# 심볼릭 링크 삭제 하기\n",
        "os.unlink('/content/pip')"
      ],
      "metadata": {
        "id": "lbh8rJ0DRik3"
      },
      "execution_count": 23,
      "outputs": []
    }
  ]
}